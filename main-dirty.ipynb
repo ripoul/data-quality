{
 "cells": [
  {
   "cell_type": "markdown",
   "metadata": {},
   "source": [
    "# Main program : analysis of SI_clean.csv"
   ]
  },
  {
   "cell_type": "code",
   "execution_count": 11,
   "metadata": {},
   "outputs": [
    {
     "data": {
      "text/plain": [
       "0      -7\n",
       "1      -8\n",
       "2      -5\n",
       "3      -3\n",
       "4      -2\n",
       "5       1\n",
       "6       2\n",
       "7       1\n",
       "8       1\n",
       "9       2\n",
       "10      1\n",
       "11      3\n",
       "12      5\n",
       "13      5\n",
       "14      7\n",
       "15    NaN\n",
       "16      2\n",
       "17     -1\n",
       "18     -2\n",
       "19     -1\n",
       "20      0\n",
       "21      1\n",
       "22      2\n",
       "23      3\n",
       "24      4\n",
       "25      3\n",
       "26      4\n",
       "27      5\n",
       "28      5\n",
       "29      3\n",
       "30      3\n",
       "Name: mars, dtype: object"
      ]
     },
     "execution_count": 11,
     "metadata": {},
     "output_type": "execute_result"
    }
   ],
   "source": [
    "import pandas as pd\n",
    "import numpy as np\n",
    "\n",
    "df = pd.read_csv(\"data/SI_dirty.csv\", delimiter=\";\", encoding=\"utf-8\")\n",
    "\n",
    "# Searching for non-int value, setting them to NaN\n",
    "# TODO : set dtype to float\n",
    "for col in df:\n",
    "    cpt = 0\n",
    "    for row in df[col]:\n",
    "        try:\n",
    "            float(row)\n",
    "        except ValueError:\n",
    "            df.loc[cpt, col]=np.NaN\n",
    "        cpt+=1\n",
    "\n",
    "df\n",
    "df[\"mars\"]"
   ]
  },
  {
   "cell_type": "markdown",
   "metadata": {},
   "source": [
    "## Moyenne de température par mois"
   ]
  },
  {
   "cell_type": "code",
   "execution_count": 2,
   "metadata": {
    "scrolled": true
   },
   "outputs": [
    {
     "data": {
      "text/plain": [
       "janvier      -8.967742\n",
       "février      -4.928571\n",
       "avril         8.000000\n",
       "mai          12.903226\n",
       "août         18.838710\n",
       "septembre    10.500000\n",
       "novembre     -0.333333\n",
       "décembre     -7.967742\n",
       "dtype: float64"
      ]
     },
     "execution_count": 2,
     "metadata": {},
     "output_type": "execute_result"
    }
   ],
   "source": [
    "df.mean()"
   ]
  },
  {
   "cell_type": "markdown",
   "metadata": {},
   "source": [
    "## Minimum de température par mois"
   ]
  },
  {
   "cell_type": "code",
   "execution_count": 3,
   "metadata": {},
   "outputs": [
    {
     "data": {
      "text/plain": [
       "janvier     -23.0\n",
       "février     -12.0\n",
       "avril         2.0\n",
       "mai           5.0\n",
       "août         14.0\n",
       "septembre     6.0\n",
       "novembre     -8.0\n",
       "décembre    -33.0\n",
       "dtype: float64"
      ]
     },
     "execution_count": 3,
     "metadata": {},
     "output_type": "execute_result"
    }
   ],
   "source": [
    "df.min()"
   ]
  },
  {
   "cell_type": "markdown",
   "metadata": {},
   "source": [
    "## Minimum de température dans l'année"
   ]
  },
  {
   "cell_type": "code",
   "execution_count": 4,
   "metadata": {
    "scrolled": false
   },
   "outputs": [
    {
     "data": {
      "text/plain": [
       "-33.0"
      ]
     },
     "execution_count": 4,
     "metadata": {},
     "output_type": "execute_result"
    }
   ],
   "source": [
    "df.min().min()"
   ]
  },
  {
   "cell_type": "markdown",
   "metadata": {},
   "source": [
    "## Maximum de température par mois"
   ]
  },
  {
   "cell_type": "code",
   "execution_count": 5,
   "metadata": {
    "scrolled": true
   },
   "outputs": [
    {
     "data": {
      "text/plain": [
       "janvier      -3.0\n",
       "février       5.0\n",
       "avril        16.0\n",
       "mai          18.0\n",
       "août         48.0\n",
       "septembre    16.0\n",
       "novembre      5.0\n",
       "décembre     -3.0\n",
       "dtype: float64"
      ]
     },
     "execution_count": 5,
     "metadata": {},
     "output_type": "execute_result"
    }
   ],
   "source": [
    "df.max()"
   ]
  },
  {
   "cell_type": "markdown",
   "metadata": {},
   "source": [
    "## Maximum de température dans l'année"
   ]
  },
  {
   "cell_type": "code",
   "execution_count": 6,
   "metadata": {
    "scrolled": false
   },
   "outputs": [
    {
     "data": {
      "text/plain": [
       "-33.0"
      ]
     },
     "execution_count": 6,
     "metadata": {},
     "output_type": "execute_result"
    }
   ],
   "source": [
    "df.min().min()"
   ]
  },
  {
   "cell_type": "markdown",
   "metadata": {},
   "source": [
    "## Ecart type de température par mois"
   ]
  },
  {
   "cell_type": "code",
   "execution_count": 7,
   "metadata": {},
   "outputs": [
    {
     "data": {
      "text/plain": [
       "janvier      4.490611\n",
       "février      4.561746\n",
       "avril        3.151354\n",
       "mai          4.036127\n",
       "août         6.044815\n",
       "septembre    2.330458\n",
       "novembre     3.717000\n",
       "décembre     5.029804\n",
       "dtype: float64"
      ]
     },
     "execution_count": 7,
     "metadata": {},
     "output_type": "execute_result"
    }
   ],
   "source": [
    "df.std()"
   ]
  },
  {
   "cell_type": "code",
   "execution_count": null,
   "metadata": {},
   "outputs": [],
   "source": []
  }
 ],
 "metadata": {
  "kernelspec": {
   "display_name": "Python 3",
   "language": "python",
   "name": "python3"
  },
  "language_info": {
   "codemirror_mode": {
    "name": "ipython",
    "version": 3
   },
   "file_extension": ".py",
   "mimetype": "text/x-python",
   "name": "python",
   "nbconvert_exporter": "python",
   "pygments_lexer": "ipython3",
   "version": "3.6.5"
  }
 },
 "nbformat": 4,
 "nbformat_minor": 4
}
